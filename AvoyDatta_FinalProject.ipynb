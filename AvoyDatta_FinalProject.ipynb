{
 "cells": [
  {
   "cell_type": "markdown",
   "metadata": {},
   "source": [
    "#                            Plotting 2D Harmonic Oscillator Eigenfunctions in 3 dimensions"
   ]
  },
  {
   "cell_type": "markdown",
   "metadata": {},
   "source": [
    "\n",
    "Solving the 1D Schrödinger Equation with Numerov’s Algorithm\n",
    "\n",
    "The Schrödinger equation describes the energy and time-evolution of a particle or system of particles, and is one of the fundamental building blocks of modern physics. In it’s general form, the (time-independent) Schrödinger equation looks like this:1\n",
    "\n",
    "$\\frac{-\\hbar^2}{2m} \\frac{\\partial^2}{\\partial x^2}\\psi(x) + V(x) \\psi(x) = E\\psi(x)$\n",
    "\n",
    "There are relatively few situations in which the Schrödinger equation can be solved analytically, and numerical methods and approximations are one way around that analytical limitation. To demonstrate how this is possible and how a numerical solution works, what better way than to solve a system which can be solved analytically and comparing the results.\n",
    "\n",
    "In solving the Schrödinger equation, we will start with one of the simplest interesting quantum mechanical systems, the quantum mechanical harmonic oscillator.2 Let’s first define our quantum harmonic oscillator. The general form of the Schrödinger equation for a one-dimensional harmonic oscillator reads thus:\n",
    "\n",
    "$\\frac{-\\hbar^2}{2m} \\frac{\\partial^2}{\\partial z^2}\\psi(z) + V(z) \\psi(z) = E\\psi(z)$\n",
    "\n",
    "We will make use of the Numerov algorithm which is particularly suited to solving second order differential equations of the form y′′(x)+k(x)y(x)=0.\n",
    "\n",
    "The algorithm:\n",
    "\n",
    "$(1+\\frac{1}{12}h^2k_{n+1})y_{n+1} = 2(1−\\frac{5}{12}h^2k_{n})y_{n}−(1+\\frac{1}{12}h^2k_{n−1})y_{n−1}+O(h^6)  $\n",
    "\n",
    "As you can see, it provides 6th order accuracy which is pretty impressive for such a simple algorithm. In the above equation, h\n",
    "is the step size between each iteration, and n is the index of iteration; y and k\n",
    "\n",
    "relate to those in the formula in the paragraph above.\n",
    "\n",
    "Thus we need to manipulate (1)\n",
    "into a (dimensionless) form which the Numerov algorithm can solve: using a substitution E=εℏω and z=xℏmω−−−√ we can rearrange (1)\n",
    "\n",
    "into the form:\n",
    "\n",
    "$ ψ′′(x)+(2ε–x^2)ψ(x)=0 $\n",
    "\n",
    "Now the Schrödinger equation is in the correct form, we can simply plug it into the Numerov algorithm and see what comes out.\n",
    "Finding the Eigenvalues Numerically\n",
    "\n",
    "To determine the eigenvalues, the program scans a range of energies, denoted by the Greek letter ε\n",
    "in the above equations, and tests for when the tail of the graph changes from +∞ to −∞ , or vice versa. When that happens, the tail must have crossed zero, and therefore it must have stepped over a solution.3 The program then goes backwards and so on with increased resolution, honing in until it finds all of the solutions we want.\n",
    "\n",
    "To convert this from 1D to a 2D <b>circularly symmetrical oscillatory potential</b>, we use a little bit of intuition:\n",
    "\n",
    "We know our algorithm works for a 1D coordinate system. Since our potential is circularly symmetric, we can expect our wavefunctions to be circularly symmetrical as well. Of course, quantum physics is not that simple. Since we are now working with 2 dimensions, the wavefunctions are defined by not one but two quantum numbers - a radial quantum number <i><b>n</b></i> and an angular quantum number <i><b>l</b></i>. The Numerov algorithm only works for the case where the angular quantum number is zero. The energy eigen numbers are dependent on the radial number, more specifically $E_{n} = (n + 1)$.\n",
    "\n",
    "Setting this number to zero, we can find the eigenfunctions for each radial quantum number <i><b>n</b></i>. It should be emphasized that the radial quantum number cannot be an odd integer when the angular number is zero. The radial eigenstates are thus all even.\n"
   ]
  },
  {
   "cell_type": "code",
   "execution_count": null,
   "metadata": {
    "collapsed": false
   },
   "outputs": [],
   "source": [
    "#Program that plots the eigen functions of a 2D simple harmonic oscillator, with angular quantum number set to zero.\n",
    "import math\n",
    "from mpl_toolkits.mplot3d import Axes3D\n",
    "import matplotlib.pyplot as plt\n",
    "from matplotlib import cm\n",
    "from matplotlib.ticker import LinearLocator, FormatStrFormatter\n",
    "import numpy as np\n"
   ]
  },
  {
   "cell_type": "code",
   "execution_count": null,
   "metadata": {
    "collapsed": true
   },
   "outputs": [],
   "source": [
    "fig = plt.figure()\n",
    "ax = fig.gca(projection='3d')\n",
    "\n",
    "N=60000 # Number of iterations of the Numerov Algorithm\n",
    "h = 0.0001 # Step size in the algorithm\n",
    "h2 = pow(h,2) \n",
    "\n",
    "\n",
    "def main():\n",
    "\n",
    "  epsilon = getEigenState() #Prompts the user for the energy eigenstate to be plotted\n",
    "\n",
    "  x_out, z_out = NumerovAlg(N, h2, epsilon) \n",
    "\n",
    "  p = np.linspace(0, 2*np.pi, 100) \n",
    "\n",
    "  # print (x_out)\n",
    "\n",
    "  R, P = np.meshgrid(x_out, p) \n",
    "  #Creates 2D arrays R and P that hold the polar coordinates r and $\\theta$ respectively. \n",
    "\n",
    "  X, Y = R*np.cos(P), R*np.sin(P) \n",
    "\n",
    "  Z = np.array([z_out for i in range(len(P))])\n",
    "  # Z = np.outer(z_out, z_out)\n",
    "  print(Z)\n",
    "  print(X.shape,Y.shape, Z.shape)\n",
    "\n",
    "  surf = ax.plot_surface(X, Y, Z, cmap=cm.coolwarm,\n",
    "                         linewidth=0, antialiased=False)\n",
    "\n",
    "  # Customize the z axis.\n",
    "  ax.text2D(0.05, 0.95, \"Eigenfunctions with angular quantum number zero for radial quantum number \" + str(int(epsilon - 0.5)), transform=ax.transAxes)\n",
    "  ax.zaxis.set_major_locator(LinearLocator(10))\n",
    "  ax.set_xlabel('X axis')\n",
    "  ax.set_ylabel('Y axis')\n",
    "  ax.set_zlabel('$\\Psi$')\n",
    "  # ax.zaxis.set_major_formatter(FormatStrFormatter('%.02f'))\n",
    "\n",
    "  # Add a color bar which maps values to colors.\n",
    "  fig.colorbar(surf, shrink=0.5, aspect=5)\n",
    "\n",
    "  plt.show()"
   ]
  },
  {
   "cell_type": "code",
   "execution_count": null,
   "metadata": {
    "collapsed": true
   },
   "outputs": [],
   "source": [
    "# Returns list x_out that is the radial axis, and z_out that is the value of the wavefunction on each axis\n",
    "def NumerovAlg(N, h2, epsilon):\n",
    "  z = 0.0\n",
    "  k = 0.0\n",
    "  x = -1*(N-2)*h\n",
    "\n",
    "  k_minus_2 = epsilon + x-2*h # k_0\n",
    "  k_minus_1 = epsilon + x-h # k_1\n",
    "  a = 0.1\n",
    "  z_minus_2 = 0 # z_0\n",
    "  z_minus_1 = a # z_1\n",
    "\n",
    "  x_out = []\n",
    "  z_out = []\n",
    "\n",
    "  n=-1*N+2\n",
    "  while n < N-2:\n",
    "    n+=1\n",
    "    x += h;\n",
    "    k = 2*epsilon - pow(x, 2)\n",
    "    b = h2/12\n",
    "    z = ( 2*(1-5*b*k_minus_1) * z_minus_1 - (1+b*k_minus_2) * z_minus_2 ) / (1 + b * k)\n",
    "\n",
    "    # Save for plotting. Add new values of x and z to the lists x_out and z_out\n",
    "    if (n % 10 == 0):\n",
    "      x_out.append(x)\n",
    "      z_out.append(z)\n",
    "\n",
    "    # Shift for next iteration\n",
    "    z_minus_2 = z_minus_1\n",
    "    z_minus_1 = z\n",
    "    k_minus_2 = k_minus_1\n",
    "    k_minus_1 = k\n",
    "\n",
    "  return x_out, z_out #The x_out corresponds to the radial axis since the potential well is radially symmetrical"
   ]
  },
  {
   "cell_type": "code",
   "execution_count": null,
   "metadata": {
    "collapsed": true
   },
   "outputs": [],
   "source": [
    "def getEigenState():\n",
    "  epsilon = 0\n",
    "  while True:\n",
    "    inp = input(\"Enter the radial quantum number of the eigenstate you want to plot(even integers only): \")\n",
    "    \n",
    "    if inp.isdigit() and int(inp) % 2 == 0:\n",
    "      epsilon = (0.5 + float(inp))\n",
    "      break\n",
    "    else:\n",
    "      print(\"That's not a positive integer!\")\n",
    "\n",
    "  return epsilon"
   ]
  },
  {
   "cell_type": "code",
   "execution_count": null,
   "metadata": {
    "collapsed": false
   },
   "outputs": [],
   "source": [
    "main()"
   ]
  },
  {
   "cell_type": "markdown",
   "metadata": {},
   "source": [
    "### References\n",
    " Numerov Algorithm: http://mtdevans.com/2013/07/solving-the-schrodinger-equation-with-numerovs-algorithm/\n",
    " \n",
    " Complete two dimensional solutions for 2D harmonic oscillator eigenfunctions: http://ramen.physics.und.edu/~yloh/TEACHING/PHYS536/N3-LandauLevelsFigures.nb.pdf"
   ]
  }
 ],
 "metadata": {
  "kernelspec": {
   "display_name": "Python 3",
   "language": "python",
   "name": "python3"
  },
  "language_info": {
   "codemirror_mode": {
    "name": "ipython",
    "version": 3
   },
   "file_extension": ".py",
   "mimetype": "text/x-python",
   "name": "python",
   "nbconvert_exporter": "python",
   "pygments_lexer": "ipython3",
   "version": "3.6.0"
  }
 },
 "nbformat": 4,
 "nbformat_minor": 2
}
